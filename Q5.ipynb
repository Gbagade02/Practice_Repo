{
 "cells": [
  {
   "cell_type": "code",
   "execution_count": 3,
   "id": "fba1d97f-8d78-4f33-a639-1fb51ce0b426",
   "metadata": {},
   "outputs": [
    {
     "name": "stderr",
     "output_type": "stream",
     "text": [
      "Downloading...\n",
      "From: https://drive.google.com/uc?id=17YBlvt8l0S0WQWEhpW7DsuXATe3plgFB\n",
      "To: /home/jovyan/work/customer_data.csv\n",
      "100%|██████████| 302/302 [00:00<00:00, 462kB/s]\n"
     ]
    },
    {
     "data": {
      "text/plain": [
       "'customer_data.csv'"
      ]
     },
     "execution_count": 3,
     "metadata": {},
     "output_type": "execute_result"
    }
   ],
   "source": [
    "import gdown\n",
    "import pandas as pd\n",
    "import matplotlib.pyplot as plt\n",
    "\n",
    "file_id = '17YBlvt8l0S0WQWEhpW7DsuXATe3plgFB'\n",
    "url = f'https://drive.google.com/uc?id={file_id}'\n",
    "\n",
    "output_file = 'customer_data.csv'  # The name you want to save the downloaded file as\n",
    "\n",
    "gdown.download(url, output_file)"
   ]
  },
  {
   "cell_type": "code",
   "execution_count": 4,
   "id": "74b82cd5-5537-4627-803a-ead3d498d98a",
   "metadata": {},
   "outputs": [
    {
     "data": {
      "text/html": [
       "<div>\n",
       "<style scoped>\n",
       "    .dataframe tbody tr th:only-of-type {\n",
       "        vertical-align: middle;\n",
       "    }\n",
       "\n",
       "    .dataframe tbody tr th {\n",
       "        vertical-align: top;\n",
       "    }\n",
       "\n",
       "    .dataframe thead th {\n",
       "        text-align: right;\n",
       "    }\n",
       "</style>\n",
       "<table border=\"1\" class=\"dataframe\">\n",
       "  <thead>\n",
       "    <tr style=\"text-align: right;\">\n",
       "      <th></th>\n",
       "      <th>customer_id</th>\n",
       "      <th>age</th>\n",
       "      <th>gender</th>\n",
       "      <th>email</th>\n",
       "      <th>purchases</th>\n",
       "    </tr>\n",
       "  </thead>\n",
       "  <tbody>\n",
       "    <tr>\n",
       "      <th>0</th>\n",
       "      <td>1001</td>\n",
       "      <td>35</td>\n",
       "      <td>M</td>\n",
       "      <td>abc@example.com</td>\n",
       "      <td>10.0</td>\n",
       "    </tr>\n",
       "    <tr>\n",
       "      <th>1</th>\n",
       "      <td>1002</td>\n",
       "      <td>28</td>\n",
       "      <td>F</td>\n",
       "      <td>def@example.com</td>\n",
       "      <td>5.0</td>\n",
       "    </tr>\n",
       "    <tr>\n",
       "      <th>2</th>\n",
       "      <td>1003</td>\n",
       "      <td>40</td>\n",
       "      <td>F</td>\n",
       "      <td>ghi@example.com</td>\n",
       "      <td>NaN</td>\n",
       "    </tr>\n",
       "    <tr>\n",
       "      <th>3</th>\n",
       "      <td>1004</td>\n",
       "      <td>45</td>\n",
       "      <td>M</td>\n",
       "      <td>jkl@example.com</td>\n",
       "      <td>8.0</td>\n",
       "    </tr>\n",
       "    <tr>\n",
       "      <th>4</th>\n",
       "      <td>1005</td>\n",
       "      <td>33</td>\n",
       "      <td>M</td>\n",
       "      <td>mno@example.com</td>\n",
       "      <td>15.0</td>\n",
       "    </tr>\n",
       "  </tbody>\n",
       "</table>\n",
       "</div>"
      ],
      "text/plain": [
       "   customer_id  age gender            email  purchases\n",
       "0         1001   35      M  abc@example.com       10.0\n",
       "1         1002   28      F  def@example.com        5.0\n",
       "2         1003   40      F  ghi@example.com        NaN\n",
       "3         1004   45      M  jkl@example.com        8.0\n",
       "4         1005   33      M  mno@example.com       15.0"
      ]
     },
     "execution_count": 4,
     "metadata": {},
     "output_type": "execute_result"
    }
   ],
   "source": [
    "# Read the CSV file into a DataFrame\n",
    "data = pd.read_csv('customer_data.csv')\n",
    "\n",
    "data.head()"
   ]
  },
  {
   "cell_type": "code",
   "execution_count": null,
   "id": "44622183-793a-418b-8d86-54297e639375",
   "metadata": {},
   "outputs": [],
   "source": []
  }
 ],
 "metadata": {
  "kernelspec": {
   "display_name": "Python 3 (ipykernel)",
   "language": "python",
   "name": "python3"
  },
  "language_info": {
   "codemirror_mode": {
    "name": "ipython",
    "version": 3
   },
   "file_extension": ".py",
   "mimetype": "text/x-python",
   "name": "python",
   "nbconvert_exporter": "python",
   "pygments_lexer": "ipython3",
   "version": "3.10.6"
  }
 },
 "nbformat": 4,
 "nbformat_minor": 5
}
