{
 "cells": [
  {
   "cell_type": "code",
   "execution_count": 1,
   "id": "0e0308ea-a360-4177-b536-b70211a64810",
   "metadata": {},
   "outputs": [
    {
     "name": "stderr",
     "output_type": "stream",
     "text": [
      "Downloading...\n",
      "From: https://drive.google.com/uc?id=1F_LOzrBtu4EAbmb2bx9SufprVDXk0Atm\n",
      "To: /home/jovyan/work/stock_prices.csv\n",
      "100%|██████████| 419/419 [00:00<00:00, 681kB/s]\n"
     ]
    },
    {
     "data": {
      "text/plain": [
       "'stock_prices.csv'"
      ]
     },
     "execution_count": 1,
     "metadata": {},
     "output_type": "execute_result"
    }
   ],
   "source": [
    "import gdown\n",
    "import pandas as pd\n",
    "import matplotlib.pyplot as plt\n",
    "\n",
    "file_id = '1F_LOzrBtu4EAbmb2bx9SufprVDXk0Atm'\n",
    "url = f'https://drive.google.com/uc?id={file_id}'\n",
    "\n",
    "output_file = 'stock_prices.csv'  # The name you want to save the downloaded file as\n",
    "\n",
    "gdown.download(url, output_file)"
   ]
  },
  {
   "cell_type": "code",
   "execution_count": null,
   "id": "cf77cc26-4ec6-476c-a189-a19ac583aba0",
   "metadata": {},
   "outputs": [],
   "source": []
  }
 ],
 "metadata": {
  "kernelspec": {
   "display_name": "Python 3 (ipykernel)",
   "language": "python",
   "name": "python3"
  },
  "language_info": {
   "codemirror_mode": {
    "name": "ipython",
    "version": 3
   },
   "file_extension": ".py",
   "mimetype": "text/x-python",
   "name": "python",
   "nbconvert_exporter": "python",
   "pygments_lexer": "ipython3",
   "version": "3.10.6"
  }
 },
 "nbformat": 4,
 "nbformat_minor": 5
}
